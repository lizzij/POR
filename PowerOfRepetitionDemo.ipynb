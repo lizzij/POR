{
 "cells": [
  {
   "cell_type": "markdown",
   "metadata": {},
   "source": [
    "# Power of Repetition Demo\n",
    "Working code demo for power of repetition Chinese Media WeChat study.\n",
    "\n",
    "## What's here\n",
    "- [X] wxpu friend+msg demo\n",
    "- [X] itchat friend+msg demo\n",
    "- [ ] itchat friend+msg+time demo\n",
    "- [X] cvs + python demo\n",
    "- [ ] itchat + cvs demo\n",
    "- [ ] links without sensitive keywords \n",
    "- [ ] links with sensitive keywords\n",
    "- [ ] Google Voice registered WeChat account"
   ]
  },
  {
   "cell_type": "code",
   "execution_count": null,
   "metadata": {},
   "outputs": [],
   "source": [
    "# wxpu friend+msg demo: send msg, auto reply, friend\n",
    "from wxpy import *\n",
    "bot = Bot()\n",
    "\n",
    "# search for friend named 'Friend' and send message\n",
    "friend = bot.friends().search('filereader')[0]\n",
    "\n",
    "# send a message\n",
    "friend.send(u\"Hello, World!\")\n",
    "\n",
    "# automate reply\n",
    "@bot.register(friend)\n",
    "def reply_friend(msg):\n",
    "    msg.reply(u'Good morning, good evening and good nite.')\n",
    "\n",
    "# keep login-ed\n",
    "embed()"
   ]
  },
  {
   "cell_type": "code",
   "execution_count": 18,
   "metadata": {},
   "outputs": [
    {
     "name": "stdout",
     "output_type": "stream",
     "text": [
      "Requirement already up-to-date: itchat in /anaconda3/lib/python3.7/site-packages (1.3.10)\r\n",
      "Requirement already satisfied, skipping upgrade: pyqrcode in /anaconda3/lib/python3.7/site-packages (from itchat) (1.2.1)\r\n",
      "Requirement already satisfied, skipping upgrade: requests in /anaconda3/lib/python3.7/site-packages (from itchat) (2.19.1)\r\n",
      "Requirement already satisfied, skipping upgrade: pypng in /anaconda3/lib/python3.7/site-packages (from itchat) (0.0.18)\r\n",
      "Requirement already satisfied, skipping upgrade: idna<2.8,>=2.5 in /anaconda3/lib/python3.7/site-packages (from requests->itchat) (2.7)\r\n",
      "Requirement already satisfied, skipping upgrade: chardet<3.1.0,>=3.0.2 in /anaconda3/lib/python3.7/site-packages (from requests->itchat) (3.0.4)\r\n",
      "Requirement already satisfied, skipping upgrade: certifi>=2017.4.17 in /anaconda3/lib/python3.7/site-packages (from requests->itchat) (2018.8.24)\r\n",
      "Requirement already satisfied, skipping upgrade: urllib3<1.24,>=1.21.1 in /anaconda3/lib/python3.7/site-packages (from requests->itchat) (1.23)\r\n"
     ]
    }
   ],
   "source": [
    "# intall itchat Python package as a shell command\n",
    "!pip install -U itchat"
   ]
  },
  {
   "cell_type": "code",
   "execution_count": 16,
   "metadata": {},
   "outputs": [
    {
     "name": "stdout",
     "output_type": "stream",
     "text": [
      "█\r"
     ]
    },
    {
     "name": "stderr",
     "output_type": "stream",
     "text": [
      "Getting uuid of QR code.\n",
      "Downloading QR code.\n",
      "Please scan the QR code to log in.\n",
      "Please press confirm on your phone.\n",
      "Loading the contact, this may take a little while.\n",
      "Login successfully as liz\n"
     ]
    },
    {
     "data": {
      "text/plain": [
       "<ItchatReturnValue: {'BaseResponse': {'Ret': 0, 'ErrMsg': '请求成功', 'RawMsg': '请求成功'}, 'MsgID': '8372269920810507656', 'LocalID': '15421497009598'}>"
      ]
     },
     "execution_count": 16,
     "metadata": {},
     "output_type": "execute_result"
    }
   ],
   "source": [
    "# itchat friend+msg demo: send a msg to filehelper\n",
    "import itchat\n",
    "itchat.auto_login()\n",
    "itchat.send('Hello, world', toUserName='filehelper')"
   ]
  },
  {
   "cell_type": "code",
   "execution_count": 29,
   "metadata": {},
   "outputs": [
    {
     "name": "stdout",
     "output_type": "stream",
     "text": [
      "From: liz\n",
      "To: filehelper\n",
      "Message: 测试0\n",
      "\n",
      "\n",
      "From: liz\n",
      "To: liz\n",
      "Message: 测试1\n",
      "\n",
      "\n",
      "From: liz\n",
      "To: luv\n",
      "Message: 测试2\n",
      "\n",
      "\n"
     ]
    }
   ],
   "source": [
    "# cvs + python API demo: display content of test.cvs\n",
    "import csv\n",
    "with open('test.csv', newline='', mode='r') as inputFile:\n",
    "    inputReader = csv.DictReader(inputFile)\n",
    "#     next(input_reader, None) # skip the headers in cvs.reader(input) mode\n",
    "    for row in inputReader:\n",
    "        print('From: ' + row['From'])\n",
    "        print('To: ' + row['To'])\n",
    "        print('Message: ' + row['Msg'])\n",
    "        print('\\n')"
   ]
  },
  {
   "cell_type": "code",
   "execution_count": 31,
   "metadata": {},
   "outputs": [
    {
     "name": "stderr",
     "output_type": "stream",
     "text": [
      "itchat has already logged in.\n"
     ]
    }
   ],
   "source": [
    "# demo for using csv with itchat\n",
    "import csv\n",
    "import itchat\n",
    "\n",
    "itchat.auto_login(hotReload=True)\n",
    "\n",
    "with open('test.csv', newline='', mode='r') as inputFile:\n",
    "    inputReader = csv.DictReader(inputFile)\n",
    "\n",
    "    for row in inputReader:\n",
    "        itchat.send(row['Msg'], toUserName=row['To'])"
   ]
  },
  {
   "cell_type": "code",
   "execution_count": null,
   "metadata": {},
   "outputs": [],
   "source": [
    "# demo for account registered with Google Voice"
   ]
  }
 ],
 "metadata": {
  "kernelspec": {
   "display_name": "Python 3",
   "language": "python",
   "name": "python3"
  },
  "language_info": {
   "codemirror_mode": {
    "name": "ipython",
    "version": 3
   },
   "file_extension": ".py",
   "mimetype": "text/x-python",
   "name": "python",
   "nbconvert_exporter": "python",
   "pygments_lexer": "ipython3",
   "version": "3.7.0"
  }
 },
 "nbformat": 4,
 "nbformat_minor": 2
}
