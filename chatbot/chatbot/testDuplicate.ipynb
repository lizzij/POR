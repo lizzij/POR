{
 "cells": [
  {
   "cell_type": "code",
   "execution_count": 67,
   "metadata": {},
   "outputs": [],
   "source": [
    "from hashids import Hashids\n",
    "import pandas as pd"
   ]
  },
  {
   "cell_type": "code",
   "execution_count": 68,
   "metadata": {},
   "outputs": [],
   "source": [
    "df = pd.DataFrame()"
   ]
  },
  {
   "cell_type": "code",
   "execution_count": 69,
   "metadata": {},
   "outputs": [],
   "source": [
    "index = range(1, 2000000000)"
   ]
  },
  {
   "cell_type": "code",
   "execution_count": null,
   "metadata": {},
   "outputs": [],
   "source": [
    "df['nextUserID'] = index\n",
    "df['day'] = 1\n",
    "df.head()"
   ]
  },
  {
   "cell_type": "code",
   "execution_count": 54,
   "metadata": {},
   "outputs": [],
   "source": [
    "def hash_user_id(row):\n",
    "    nextUserID = row['nextUserID'] \n",
    "    day = row['day']\n",
    "    user_id_hashids = Hashids(salt=str(10 * nextUserID + day) + \"user_id\", min_length=16)\n",
    "    hashed_user_id = user_id_hashids.encrypt(nextUserID)\n",
    "    return hashed_user_id"
   ]
  },
  {
   "cell_type": "code",
   "execution_count": 55,
   "metadata": {},
   "outputs": [
    {
     "data": {
      "text/html": [
       "<div>\n",
       "<style scoped>\n",
       "    .dataframe tbody tr th:only-of-type {\n",
       "        vertical-align: middle;\n",
       "    }\n",
       "\n",
       "    .dataframe tbody tr th {\n",
       "        vertical-align: top;\n",
       "    }\n",
       "\n",
       "    .dataframe thead th {\n",
       "        text-align: right;\n",
       "    }\n",
       "</style>\n",
       "<table border=\"1\" class=\"dataframe\">\n",
       "  <thead>\n",
       "    <tr style=\"text-align: right;\">\n",
       "      <th></th>\n",
       "      <th>nextUserID</th>\n",
       "      <th>day</th>\n",
       "      <th>hashed_user_id</th>\n",
       "    </tr>\n",
       "  </thead>\n",
       "  <tbody>\n",
       "    <tr>\n",
       "      <th>0</th>\n",
       "      <td>1</td>\n",
       "      <td>1</td>\n",
       "      <td>lq13ZopK7pbrkJ7X</td>\n",
       "    </tr>\n",
       "    <tr>\n",
       "      <th>1</th>\n",
       "      <td>2</td>\n",
       "      <td>1</td>\n",
       "      <td>a3k47g0J60EmWOjD</td>\n",
       "    </tr>\n",
       "    <tr>\n",
       "      <th>2</th>\n",
       "      <td>3</td>\n",
       "      <td>1</td>\n",
       "      <td>klzKE7O7vabVm81B</td>\n",
       "    </tr>\n",
       "    <tr>\n",
       "      <th>3</th>\n",
       "      <td>4</td>\n",
       "      <td>1</td>\n",
       "      <td>K7JpVY69VlQEAM8b</td>\n",
       "    </tr>\n",
       "  </tbody>\n",
       "</table>\n",
       "</div>"
      ],
      "text/plain": [
       "   nextUserID  day    hashed_user_id\n",
       "0           1    1  lq13ZopK7pbrkJ7X\n",
       "1           2    1  a3k47g0J60EmWOjD\n",
       "2           3    1  klzKE7O7vabVm81B\n",
       "3           4    1  K7JpVY69VlQEAM8b"
      ]
     },
     "execution_count": 55,
     "metadata": {},
     "output_type": "execute_result"
    }
   ],
   "source": [
    "df['hashed_user_id'] = df.apply(hash_user_id, axis=1)\n",
    "df.head()"
   ]
  },
  {
   "cell_type": "code",
   "execution_count": 56,
   "metadata": {},
   "outputs": [],
   "source": [
    "def hash_day(row):\n",
    "    nextUserID = row['nextUserID'] \n",
    "    day = row['day']\n",
    "    day_hashids = Hashids(salt=str(10 * nextUserID + day) + \"day\", min_length=10)\n",
    "    hashed_day = day_hashids.encrypt(day)\n",
    "    return hashed_day"
   ]
  },
  {
   "cell_type": "code",
   "execution_count": 57,
   "metadata": {},
   "outputs": [
    {
     "data": {
      "text/html": [
       "<div>\n",
       "<style scoped>\n",
       "    .dataframe tbody tr th:only-of-type {\n",
       "        vertical-align: middle;\n",
       "    }\n",
       "\n",
       "    .dataframe tbody tr th {\n",
       "        vertical-align: top;\n",
       "    }\n",
       "\n",
       "    .dataframe thead th {\n",
       "        text-align: right;\n",
       "    }\n",
       "</style>\n",
       "<table border=\"1\" class=\"dataframe\">\n",
       "  <thead>\n",
       "    <tr style=\"text-align: right;\">\n",
       "      <th></th>\n",
       "      <th>nextUserID</th>\n",
       "      <th>day</th>\n",
       "      <th>hashed_user_id</th>\n",
       "      <th>hashed_day</th>\n",
       "    </tr>\n",
       "  </thead>\n",
       "  <tbody>\n",
       "    <tr>\n",
       "      <th>0</th>\n",
       "      <td>1</td>\n",
       "      <td>1</td>\n",
       "      <td>lq13ZopK7pbrkJ7X</td>\n",
       "      <td>BKzwNEGg9y</td>\n",
       "    </tr>\n",
       "    <tr>\n",
       "      <th>1</th>\n",
       "      <td>2</td>\n",
       "      <td>1</td>\n",
       "      <td>a3k47g0J60EmWOjD</td>\n",
       "      <td>QGngX7ZREN</td>\n",
       "    </tr>\n",
       "    <tr>\n",
       "      <th>2</th>\n",
       "      <td>3</td>\n",
       "      <td>1</td>\n",
       "      <td>klzKE7O7vabVm81B</td>\n",
       "      <td>1ENB753m7V</td>\n",
       "    </tr>\n",
       "    <tr>\n",
       "      <th>3</th>\n",
       "      <td>4</td>\n",
       "      <td>1</td>\n",
       "      <td>K7JpVY69VlQEAM8b</td>\n",
       "      <td>RA0EvZEYaZ</td>\n",
       "    </tr>\n",
       "  </tbody>\n",
       "</table>\n",
       "</div>"
      ],
      "text/plain": [
       "   nextUserID  day    hashed_user_id  hashed_day\n",
       "0           1    1  lq13ZopK7pbrkJ7X  BKzwNEGg9y\n",
       "1           2    1  a3k47g0J60EmWOjD  QGngX7ZREN\n",
       "2           3    1  klzKE7O7vabVm81B  1ENB753m7V\n",
       "3           4    1  K7JpVY69VlQEAM8b  RA0EvZEYaZ"
      ]
     },
     "execution_count": 57,
     "metadata": {},
     "output_type": "execute_result"
    }
   ],
   "source": [
    "df['hashed_day'] = df.apply(hash_day, axis=1)\n",
    "df.head()"
   ]
  },
  {
   "cell_type": "code",
   "execution_count": 65,
   "metadata": {},
   "outputs": [
    {
     "name": "stdout",
     "output_type": "stream",
     "text": [
      "Number of duplicate hashed_user_id :\n",
      "0\n"
     ]
    }
   ],
   "source": [
    "duplicate_hashed_user_id = df[df.duplicated(['hashed_user_id'])]\n",
    "print(\"Number of duplicate hashed_user_id :\")\n",
    "print(duplicate_hashed_user_id.size)"
   ]
  },
  {
   "cell_type": "code",
   "execution_count": 66,
   "metadata": {},
   "outputs": [
    {
     "name": "stdout",
     "output_type": "stream",
     "text": [
      "Number of duplicate hashed_day :\n",
      "0\n"
     ]
    }
   ],
   "source": [
    "duplicate_hashed_day = df[df.duplicated(['hashed_day'])]\n",
    "print(\"Number of duplicate hashed_day :\")\n",
    "print(duplicate_hashed_day.size)"
   ]
  },
  {
   "cell_type": "code",
   "execution_count": null,
   "metadata": {},
   "outputs": [],
   "source": []
  }
 ],
 "metadata": {
  "kernelspec": {
   "display_name": "Python 3",
   "language": "python",
   "name": "python3"
  },
  "language_info": {
   "codemirror_mode": {
    "name": "ipython",
    "version": 3
   },
   "file_extension": ".py",
   "mimetype": "text/x-python",
   "name": "python",
   "nbconvert_exporter": "python",
   "pygments_lexer": "ipython3",
   "version": "3.7.2"
  }
 },
 "nbformat": 4,
 "nbformat_minor": 2
}
