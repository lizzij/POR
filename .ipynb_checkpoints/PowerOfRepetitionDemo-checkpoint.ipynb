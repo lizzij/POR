{
 "cells": [
  {
   "cell_type": "markdown",
   "metadata": {},
   "source": [
    "# Power of Repetition Demo\n",
    "Working code demo for power of repetition Chinese Media WeChat study."
   ]
  },
  {
   "cell_type": "code",
   "execution_count": null,
   "metadata": {},
   "outputs": [],
   "source": [
    "# demo code using wxpy\n",
    "from wxpy import *\n",
    "bot = Bot()\n",
    "\n",
    "# search for friend named 'Friend' and send message\n",
    "friend = bot.friends().search('liz')[0]\n",
    "\n",
    "# send a message\n",
    "friend.send(u\"Hello, World!\")\n",
    "\n",
    "# automate reply\n",
    "@bot.register(friend)\n",
    "def reply_friend(msg):\n",
    "    msg.reply(u'Good morning, good evening and good nite.')\n",
    "\n",
    "# keep login-ed\n",
    "embed()"
   ]
  },
  {
   "cell_type": "code",
   "execution_count": null,
   "metadata": {},
   "outputs": [],
   "source": []
  }
 ],
 "metadata": {
  "kernelspec": {
   "display_name": "Python 3",
   "language": "python",
   "name": "python3"
  },
  "language_info": {
   "codemirror_mode": {
    "name": "ipython",
    "version": 3
   },
   "file_extension": ".py",
   "mimetype": "text/x-python",
   "name": "python",
   "nbconvert_exporter": "python",
   "pygments_lexer": "ipython3",
   "version": "3.7.0"
  }
 },
 "nbformat": 4,
 "nbformat_minor": 2
}
