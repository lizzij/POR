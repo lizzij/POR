{
 "cells": [
  {
   "cell_type": "markdown",
   "metadata": {},
   "source": [
    "# Test Google Voice Msg\n",
    "Test Google Voice by sending a lot of messages with each other (300 messages in 10 min, i.e., 30 msg per min)"
   ]
  },
  {
   "cell_type": "markdown",
   "metadata": {},
   "source": [
    "## Step 1: Set up Google Voice account\n",
    "| Gmail accounts | Google Voice No. |\n",
    "| :--- | :--- |\n",
    "| powerofrep1@gmail.com | (774) 231-8316 |\n",
    "| powerofrep2@gmail.com | (508) 960-9985 |\n",
    "| powerofrep3@gmail.com | <span style=\"color:red\">can only link 2 no. to 1 land line number</span>|\n",
    "| password | PowerOfRep@123 |\n",
    "\n",
    "## Step 2: Register for Wechat account with Google Voice number\n",
    "WeChat verification code (5538) may only be used once to verify mobile number. \n",
    "Forward text received to gmail mailbox.\n",
    "> 无法使用虚拟运营商提供的手机号码注册微信账号\n",
    "\n",
    "> Unable to register WeChat account with the mobile phone number <span style=\"color:red\">provided by the virtual carrier</span>"
   ]
  }
 ],
 "metadata": {
  "kernelspec": {
   "display_name": "Python 3",
   "language": "python",
   "name": "python3"
  },
  "language_info": {
   "codemirror_mode": {
    "name": "ipython",
    "version": 3
   },
   "file_extension": ".py",
   "mimetype": "text/x-python",
   "name": "python",
   "nbconvert_exporter": "python",
   "pygments_lexer": "ipython3",
   "version": "3.7.0"
  }
 },
 "nbformat": 4,
 "nbformat_minor": 2
}
