{
 "cells": [
  {
   "cell_type": "markdown",
   "metadata": {},
   "source": [
    "## Hosting\n",
    "Hosting the information provision page somewhere that it takes split second for Chinese people to see the info after clicking\n",
    "\n",
    "<span style=\"color:green\">Solution: Combine with WeChat Official Account </span>\n",
    "    \n",
    "Link to the wechat official account [article](https://mp.weixin.qq.com/s?__biz=MzUxOTE5MDM0NQ==&mid=2247483897&idx=1&sn=5b2cb71607c6ed08fc06f5e3e48204a3&chksm=f9fc23dfce8baac96978991a35cb013cea5dae1e23439f7661429123c9e4dceaf930dd0f5113&mpshare=1&scene=1&srcid=1204TLRgWuNndocMQ2LSASNZ#rd)"
   ]
  },
  {
   "cell_type": "markdown",
   "metadata": {},
   "source": [
    "## Save Response\n",
    "How to save the response: investigate middleground between our own server and Qualtrics\n",
    "\n",
    "<span style=\"color:green\">Solution: Host survey on WeChat Official Account</span>\n",
    "\n",
    "Link to the wechat official account [article](https://mp.weixin.qq.com/s?__biz=MzUxOTE5MDM0NQ==&mid=2247483897&idx=1&sn=5b2cb71607c6ed08fc06f5e3e48204a3&chksm=f9fc23dfce8baac96978991a35cb013cea5dae1e23439f7661429123c9e4dceaf930dd0f5113&mpshare=1&scene=1&srcid=1204TLRgWuNndocMQ2LSASNZ#rd)\n",
    "<img src=\"img/SurveyOnOfficialPlatform.png\" alt=\"drawing\" width=\"800\"/>\n",
    "<img src=\"img/SurveyScreenshot.jpeg\" alt=\"drawing\" width=\"400\"/>\n"
   ]
  },
  {
   "cell_type": "markdown",
   "metadata": {},
   "source": [
    "## Server\n",
    "- Set up server\n",
    "- Set up database\n",
    "- Front-end rendering: information provision -> servey flow\n",
    "- Survey -> databse\n",
    "- Check how fast for people in mainland China\n",
    "\n",
    "<span style=\"color:blue\">\n",
    "Information\n",
    "\n",
    "- Need: Website filing with the government (time-consuming)\n",
    "- Personal bought on GoDaddy not reachable\n",
    "\n",
    "Server\n",
    "- Apache web hosting, widely used by 淘宝 Sina 搜狐 优酷\n",
    "- reading for future [blog](https://blog.csdn.net/bbwangj/article/details/77963701) [devNotes](https://httpd.apache.org/dev/devnotes.html)\n",
    "</span>"
   ]
  },
  {
   "cell_type": "markdown",
   "metadata": {},
   "source": [
    "## MultiMsgs Test\n",
    "Buy 3 WeChat account ($10 each) and test how many messages that we can safely send in limited time\n",
    "\n",
    "Test result\n",
    "- Cannot purchase wechat account online <span style=\"color:red\">(seller ghosted)</span>\n",
    "- Got new number and registered a new account, but cannot use bot with new account:\n",
    "  - <span style=\"color:red\"> \"Your wechat account may be LIMITED to log in WEB wechat, error info:...\"</span>\n",
    "\n",
    "Solution proposed\n",
    "- combine the <span style=\"color:green\">WeChat Official account</span> with wechat personal account\n",
    "    - send the wechat official account survey link to wechat personal account,\n",
    "    - do survey on the official wechat account\n",
    "    - they don't have to subscribe to the official wechat account \n",
    "- generate a temporary link (above) \n",
    "    - prepare the info before hand (able to send up to 1 article per day)\n",
    "    - ask the participant to not go into the official account to check other info\n",
    "- send a post to <span style=\"color:green\">Wechat Friend Circle</span> and remind participant to see it\n",
    "    - group participants with tags\n",
    "<img src=\"img/FriendCirclePostScreenshot.jpeg\" alt=\"drawing\" width=\"400\"/>"
   ]
  },
  {
   "cell_type": "code",
   "execution_count": 1,
   "metadata": {},
   "outputs": [
    {
     "name": "stdout",
     "output_type": "stream",
     "text": [
      "█\r"
     ]
    },
    {
     "name": "stderr",
     "output_type": "stream",
     "text": [
      "Getting uuid of QR code.\n",
      "Downloading QR code.\n",
      "Please scan the QR code to log in.\n",
      "Please press confirm on your phone.\n",
      "Your wechat account may be LIMITED to log in WEB wechat, error info:\n",
      "<error><ret>1203</ret><message>为了你的帐号安全，此微信号已不允许登录网页微信。你可以使用Windows微信或Mac微信在电脑端登录。Windows微信下载地址：https://pc.weixin.qq.com  Mac微信下载地址：https://mac.weixin.qq.com</message></error>\n"
     ]
    },
    {
     "ename": "KeyError",
     "evalue": "'wxsid'",
     "output_type": "error",
     "traceback": [
      "\u001b[0;31m---------------------------------------------------------------------------\u001b[0m",
      "\u001b[0;31mKeyError\u001b[0m                                  Traceback (most recent call last)",
      "\u001b[0;32m<ipython-input-1-a2200cea9ea2>\u001b[0m in \u001b[0;36m<module>\u001b[0;34m()\u001b[0m\n\u001b[1;32m      1\u001b[0m \u001b[0;31m# demo for 10 min, 300 messages. (30 per minute)\u001b[0m\u001b[0;34m\u001b[0m\u001b[0;34m\u001b[0m\u001b[0m\n\u001b[1;32m      2\u001b[0m \u001b[0;32mfrom\u001b[0m \u001b[0mwxpy\u001b[0m \u001b[0;32mimport\u001b[0m \u001b[0;34m*\u001b[0m\u001b[0;34m\u001b[0m\u001b[0m\n\u001b[0;32m----> 3\u001b[0;31m \u001b[0mbot\u001b[0m \u001b[0;34m=\u001b[0m \u001b[0mBot\u001b[0m\u001b[0;34m(\u001b[0m\u001b[0;34m)\u001b[0m\u001b[0;34m\u001b[0m\u001b[0m\n\u001b[0m\u001b[1;32m      4\u001b[0m \u001b[0;34m\u001b[0m\u001b[0m\n\u001b[1;32m      5\u001b[0m \u001b[0;31m# search for friend named 'friend' and send message\u001b[0m\u001b[0;34m\u001b[0m\u001b[0;34m\u001b[0m\u001b[0m\n",
      "\u001b[0;32m/anaconda3/lib/python3.7/site-packages/wxpy/api/bot.py\u001b[0m in \u001b[0;36m__init__\u001b[0;34m(self, cache_path, console_qr, qr_path, qr_callback, login_callback, logout_callback)\u001b[0m\n\u001b[1;32m     94\u001b[0m         \u001b[0mself\u001b[0m\u001b[0;34m.\u001b[0m\u001b[0m_sync_check_iterations\u001b[0m \u001b[0;34m=\u001b[0m \u001b[0mint\u001b[0m\u001b[0;34m(\u001b[0m\u001b[0mtime\u001b[0m\u001b[0;34m.\u001b[0m\u001b[0mtime\u001b[0m\u001b[0;34m(\u001b[0m\u001b[0;34m)\u001b[0m \u001b[0;34m*\u001b[0m \u001b[0;36m1000\u001b[0m\u001b[0;34m)\u001b[0m\u001b[0;34m\u001b[0m\u001b[0m\n\u001b[1;32m     95\u001b[0m \u001b[0;34m\u001b[0m\u001b[0m\n\u001b[0;32m---> 96\u001b[0;31m         \u001b[0menhance_webwx_request\u001b[0m\u001b[0;34m(\u001b[0m\u001b[0mself\u001b[0m\u001b[0;34m)\u001b[0m\u001b[0;34m\u001b[0m\u001b[0m\n\u001b[0m\u001b[1;32m     97\u001b[0m \u001b[0;34m\u001b[0m\u001b[0m\n\u001b[1;32m     98\u001b[0m         \u001b[0mself\u001b[0m\u001b[0;34m.\u001b[0m\u001b[0mself\u001b[0m \u001b[0;34m=\u001b[0m \u001b[0mUser\u001b[0m\u001b[0;34m(\u001b[0m\u001b[0mself\u001b[0m\u001b[0;34m.\u001b[0m\u001b[0mcore\u001b[0m\u001b[0;34m.\u001b[0m\u001b[0mloginInfo\u001b[0m\u001b[0;34m[\u001b[0m\u001b[0;34m'User'\u001b[0m\u001b[0;34m]\u001b[0m\u001b[0;34m,\u001b[0m \u001b[0mself\u001b[0m\u001b[0;34m)\u001b[0m\u001b[0;34m\u001b[0m\u001b[0m\n",
      "\u001b[0;32m/anaconda3/lib/python3.7/site-packages/wxpy/utils/misc.py\u001b[0m in \u001b[0;36menhance_webwx_request\u001b[0;34m(bot, sync_check_timeout, webwx_sync_timeout)\u001b[0m\n\u001b[1;32m    325\u001b[0m     \u001b[0;31m# post: 用于获取消息和更新联系人\u001b[0m\u001b[0;34m\u001b[0m\u001b[0;34m\u001b[0m\u001b[0m\n\u001b[1;32m    326\u001b[0m     \u001b[0mwebwx_sync_url\u001b[0m \u001b[0;34m=\u001b[0m \u001b[0;34m'{li[url]}/webwxsync?sid={li[wxsid]}&skey={li[skey]}'\u001b[0m\u001b[0;31m \u001b[0m\u001b[0;31m\\\u001b[0m\u001b[0;34m\u001b[0m\u001b[0m\n\u001b[0;32m--> 327\u001b[0;31m                      \u001b[0;34m'&pass_ticket={li[pass_ticket]}'\u001b[0m\u001b[0;34m.\u001b[0m\u001b[0mformat\u001b[0m\u001b[0;34m(\u001b[0m\u001b[0mli\u001b[0m\u001b[0;34m=\u001b[0m\u001b[0mlogin_info\u001b[0m\u001b[0;34m)\u001b[0m\u001b[0;34m\u001b[0m\u001b[0m\n\u001b[0m\u001b[1;32m    328\u001b[0m \u001b[0;34m\u001b[0m\u001b[0m\n\u001b[1;32m    329\u001b[0m     \u001b[0;31m# noinspection PyProtectedMember\u001b[0m\u001b[0;34m\u001b[0m\u001b[0;34m\u001b[0m\u001b[0m\n",
      "\u001b[0;31mKeyError\u001b[0m: 'wxsid'"
     ]
    }
   ],
   "source": [
    "# demo for 10 min, 300 messages. (30 per minute)\n",
    "from wxpy import *\n",
    "bot = Bot()\n",
    "\n",
    "# search for friend named 'friend' and send message\n",
    "friend = bot.friends().search('friend')[0]\n",
    "\n",
    "# send 30 message in 1 min (60 sec), 2 sec gap\n",
    "index = 1\n",
    "friend.send(uindex)\n",
    "# for msgNo in range(0, 29):\n",
    "#     # send a message\n",
    "#     friend.send(u\"Hello, World!\")\n",
    "#     index += 1\n",
    "\n",
    "# keep login-ed\n",
    "embed()"
   ]
  },
  {
   "cell_type": "markdown",
   "metadata": {},
   "source": [
    "## Meeting\n",
    "Meeting: 177 Huntington (Dec 4 10am)"
   ]
  }
 ],
 "metadata": {
  "kernelspec": {
   "display_name": "Python 3",
   "language": "python",
   "name": "python3"
  },
  "language_info": {
   "codemirror_mode": {
    "name": "ipython",
    "version": 3
   },
   "file_extension": ".py",
   "mimetype": "text/x-python",
   "name": "python",
   "nbconvert_exporter": "python",
   "pygments_lexer": "ipython3",
   "version": "3.7.0"
  }
 },
 "nbformat": 4,
 "nbformat_minor": 2
}
