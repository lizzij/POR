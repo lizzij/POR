{
 "cells": [
  {
   "cell_type": "markdown",
   "metadata": {},
   "source": [
    "# Survey Platform Test\n"
   ]
  },
  {
   "cell_type": "markdown",
   "metadata": {},
   "source": [
    "## Test Chinese Survey Platform\n",
    "Test for censorship\n",
    "\n",
    "### Qn on the form\n",
    "Link to the [form](https://www.wjx.cn/jq/31257943.aspx).\n",
    "\n",
    "Rate from 0-5:\n",
    "- Trust on Chinese media \n",
    "- Trust on Chinese government\n",
    "- Trust on US media\n",
    "- Trust on the Party.\n",
    "\n",
    "Followed by a translation of these questions in Chinese\n",
    "\n",
    "### wjc.cn's policy\n",
    "> 根据《中华人民共和国网络安全法》，未绑定手机号码进行实名的账号发布信息时将需要人工进行审核。 \n",
    "\n",
    "> According to the \"Network Security Law of the People's Republic of China\", when a mobile phone number is not bound to an account, <span style=\"color:red\">surveys will need to be manually reviewed</span>.\n",
    "\n",
    "### Result\n",
    "For three days, when scanning the QR code providede by the survey platform, prompt:\n",
    "> 很抱歉，发布者未通过手机号码认证，问卷需审核以后才能填写。\n",
    "\n",
    "> Sorry, the publisher <span style=\"color:red\">has not passed</span> the mobile phone number certification, and the questionnaire needs to be reviewed before it can be filled out.\n",
    "\n",
    "### Attempt to link phone number\n",
    "Need <span style=\"color:red\">11 digit Chinese</span> phone number.\n",
    "\n",
    "Google Voice <span style=\"color:red\">did not receive</span> verification code number."
   ]
  }
 ],
 "metadata": {
  "kernelspec": {
   "display_name": "Python 3",
   "language": "python",
   "name": "python3"
  },
  "language_info": {
   "codemirror_mode": {
    "name": "ipython",
    "version": 3
   },
   "file_extension": ".py",
   "mimetype": "text/x-python",
   "name": "python",
   "nbconvert_exporter": "python",
   "pygments_lexer": "ipython3",
   "version": "3.7.0"
  }
 },
 "nbformat": 4,
 "nbformat_minor": 2
}
