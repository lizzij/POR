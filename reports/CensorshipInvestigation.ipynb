{
 "cells": [
  {
   "cell_type": "markdown",
   "metadata": {},
   "source": [
    "# Censorship Investigation\n",
    "Proposed solutions and test for blocked WeChat message and surveys.\n",
    "\n",
    "## What's here\n",
    "- [X] wxpy multiple bots at once\n",
    "- [X] Quatrics Speed\n",
    "- [X] links without sensitive keywords \n",
    "- [X] links with sensitive keywords\n",
    "- [ ] Google Voice registered WeChat account\n",
    "\n",
    "## Resources\n",
    "* [GreatFire Analyzer](https://en.greatfire.org/analyzer): censorship analyzer for url, keywords etc.\n",
    "* [List](http://www.beyondfirewall.com/2012/07/blog-post_9897.html) of Baidu censored words (will return \"Not Found\").\n",
    "\n",
    "## WeChat\n",
    "\n",
    "### Setup and Manage Multi Accounts\n",
    "* Register with [Google Voice US numbers](http://www.debugrun.com/a/Qok8j6g.html)\n",
    "  * 0 cost, but needs to make phone calls and texts every week to prevent from being canceled\n",
    "  * might not pass WeChat check\n",
    "* Multiple login with Python ThreadPool to prevent [overload](https://wxpy.readthedocs.io/zh/latest/response_error.html)\n",
    "  * (See code below)\n"
   ]
  },
  {
   "cell_type": "code",
   "execution_count": null,
   "metadata": {},
   "outputs": [],
   "source": [
    "# Python ThreadPool to login multiple accounts at once\n",
    "from multiprocessing.pool import ThreadPool\n",
    "from wxpy import *\n",
    "\n",
    "cache_paths = ['bot1.pkl', 'bot2.pkl']\n",
    "\n",
    "with ThreadPool(2) as pool:\n",
    "    bot1, bot2 = pool.map(lambda x: Bot(x, qr_path='{}.png'.format(x)), cache_paths)"
   ]
  },
  {
   "cell_type": "markdown",
   "metadata": {},
   "source": [
    "### Censorship at server\n",
    "* Choose a usable encryption\n",
    "* Encoperate with the wxpy API\n",
    "\n",
    "## Surveys\n",
    "\n",
    "Option 1: use Quatrics\n",
    "\n",
    "* speed test on [WebSitePulse](https://www.websitepulse.com/tools/china-firewall-test#) using self-created Qualtrics [form](https://neu.co1.qualtrics.com/jfe/form/SV_eqyhSbMmkQUC67r) \n",
    "\n",
    "| Tested From | Shanghai, China | Beijing, China | \n",
    "|--- |---|--- |\n",
    "| Status | OK | OK |               \n",
    "| Response Time | 6.038 sec | 0.803 sec |         \n",
    "\n",
    "\n",
    "* when using a longer [form](https://neu.co1.qualtrics.com/jfe/form/SV_5nL3uej960DjNxr)\n",
    "\n",
    "| Tested From | Shanghai, China | Beijing, China |\n",
    "| ---| --- | --- |\n",
    "| Status | OK | OK |             \n",
    "| Response Time | 5.583 sec | 6.446 sec |\n",
    "\n",
    "Option 1: use Chinese survey website [wjc](https://www.wjx.cn/)\n",
    "\n",
    "Option 3: use vultr or [bluehost](https://www.bluehost.com/?utm_source=%28direct%29&utm_medium=affiliate&utm_campaign=affiliate-link_wordpressbluehost_notype) for web hosting"
   ]
  },
  {
   "cell_type": "code",
   "execution_count": 6,
   "metadata": {},
   "outputs": [
    {
     "name": "stdout",
     "output_type": "stream",
     "text": [
      "From: liz\n",
      "To: filehelper\n",
      "Message: https://www.google.com/search?ei=VpXtW6zBAojL_QbWlJSADw&q=%E9%87%91%E4%B8%89%E8%83%96&oq=%E9%87%91%E4%B8%89%E8%83%96&gs_l=psy-ab.3..0l10.25674.25674..26413...0.0..0.73.73.1......0....1j2..gws-wiz.kdkb9aENKts\n",
      "From: liz\n",
      "To: filehelper\n",
      "Message: https://www.baidu.com/s?wd=%E9%87%91%E4%B8%89%E8%83%96&rsv_spt=1&rsv_iqid=0xe553db3a00021ce6&issp=1&f=8&rsv_bp=1&rsv_idx=2&ie=utf-8&rqlang=cn&tn=baiduhome_pg&rsv_enter=1&oq=%25E6%259D%25AD%25E5%25B7%259E%2520%25E9%2581%259B%25E7%258B%2597&inputT=3321&rsv_t=a9b02N%2BH3GE1aCKLPaHyfq3ur8EOEqLPnuBxu32%2FPlNTW7P0qx2KpLUGT2FyygJXDuGe&rsv_pq=c5b6c1bf0001d24f&rsv_sug3=40&rsv_sug1=6&rsv_sug7=100&rsv_sug2=0&rsv_sug4=3321\n",
      "From: liz\n",
      "To: b83120371\n",
      "Message: https://www.baidu.com/s?wd=6.4&rsv_spt=1&rsv_iqid=0xd460cf2400004c96&issp=1&f=8&rsv_bp=1&rsv_idx=2&ie=utf-8&rqlang=cn&tn=baiduhome_pg&rsv_enter=1&oq=%25E5%25A4%25A7%25E7%25BA%25AA%25E5%2585%2583&inputT=1457&rsv_t=63acFwPUX6bPlMxScE3Ec9zap%2FFqSslofaYh97Xpe6qzXp2SmlPXNDh4%2F2DgrkUI8eqN&rsv_pq=a5b313b6000046e1&rsv_sug3=16&rsv_sug1=4&rsv_sug7=100&rsv_sug2=0&rsv_sug4=1457\n",
      "From: liz\n",
      "To: luv\n",
      "Message: https://www.baidu.com/s?wd=%E6%B3%95%E8%BD%AE%E5%8A%9F&rsv_spt=1&rsv_iqid=0xd460cf2400004c96&issp=1&f=8&rsv_bp=1&rsv_idx=2&ie=utf-8&rqlang=cn&tn=baiduhome_pg&rsv_enter=1&oq=6.4&inputT=4648&rsv_t=1d2d84j64Am2rbJ%2F8hCgcpfJjjs6DJVQXSmSHJehm3QRLTxqgLGYmhNtlqcz6y1CEenK&rsv_pq=d2dca536000042f2&rsv_sug3=29&rsv_sug1=9&rsv_sug7=100&rsv_sug2=0&rsv_sug4=4648\n",
      "From: liz\n",
      "To: Tiffany\n",
      "Message: test3\n",
      "From: liz\n",
      "To: 倪爽\n",
      "Message: https://www.baidu.com/s?wd=%E9%80%80%E5%85%9A&rsv_spt=1&rsv_iqid=0xd460cf2400004c96&issp=1&f=8&rsv_bp=1&rsv_idx=2&ie=utf-8&rqlang=cn&tn=baiduhome_pg&rsv_enter=1&oq=%25E6%25B3%2595%25E8%25BD%25AE%25E5%258A%259F&inputT=1210&rsv_t=69bfZqgNEF5hTnxnZxTwJNJHz1Tbk3VruGFob0RrfPstP%2F65BCjzn2gViUx3d9F8EDFq&rsv_pq=a9344f1e00005a8f&rsv_sug3=37&rsv_sug1=10&rsv_sug7=100&rsv_sug2=0&rsv_sug4=1210\n",
      "From: liz\n",
      "To: 王杜宇\n",
      "Message: https://www.baidu.com/s?wd=%E8%BF%9E%E4%BB%BB&rsv_spt=1&rsv_iqid=0xd460cf2400004c96&issp=1&f=8&rsv_bp=1&rsv_idx=2&ie=utf-8&rqlang=cn&tn=baiduhome_pg&rsv_enter=1&oq=%25E9%2580%2580%25E5%2585%259A&inputT=1662&rsv_t=33f5y3FA93YG624Gj%2FAIjlWuaGWBGibULRxeY%2BGKY0obRtB9Add%2FH5Q56qT8j59W9Ex%2B&rsv_pq=f5b721e700005142&rsv_sug3=45&rsv_sug1=11&rsv_sug7=100&rsv_sug2=0&rsv_sug4=1662\n",
      "From: liz\n",
      "To: Sherry Zhang\n",
      "Message: https://www.baidu.com/s?wd=89&rsv_spt=1&rsv_iqid=0xd460cf2400004c96&issp=1&f=8&rsv_bp=1&rsv_idx=2&ie=utf-8&rqlang=cn&tn=baiduhome_pg&rsv_enter=1&oq=%25E8%25BF%259E%25E4%25BB%25BB&inputT=401&rsv_t=ebacGPXuoyh0yVHQJtjfBAWjLxJRQOAuEL6hrS6IcthTUOfGXVQffXpQLkPo%2BlQs7Mwy&rsv_pq=91c1453000005d0b&rsv_sug3=47&rsv_sug2=0&rsv_sug4=401\n"
     ]
    }
   ],
   "source": [
    "# cvs + python API demo: display content of test.cvs\n",
    "import csv\n",
    "with open('testSensitive.csv', newline='', mode='r') as inputFile:\n",
    "    inputReader = csv.DictReader(inputFile)\n",
    "#     next(input_reader, None) # skip the headers in cvs.reader(input) mode\n",
    "    for row in inputReader:\n",
    "        print('From: ' + row['From'])\n",
    "        print('To: ' + row['To'])\n",
    "        print('Message: ' + row['Msg'])"
   ]
  },
  {
   "cell_type": "code",
   "execution_count": 7,
   "metadata": {},
   "outputs": [
    {
     "name": "stdout",
     "output_type": "stream",
     "text": [
      "Sent!\n",
      "Sent!\n",
      "Sent!\n",
      "Sent!\n",
      "Sent!\n",
      "Sent!\n",
      "Sent!\n",
      "Sent!\n"
     ]
    }
   ],
   "source": [
    "# demo for using csv with itchat\n",
    "import csv\n",
    "import itchat\n",
    "\n",
    "itchat.auto_login(hotReload=True)\n",
    "\n",
    "with open('testSensitive.csv', newline='', mode='r') as inputFile:\n",
    "    inputReader = csv.DictReader(inputFile)\n",
    "\n",
    "    for row in inputReader:\n",
    "#         itchat.send((row['Msg']), toUserName=(row['To']))\n",
    "        receiverUserName = (row['To'])\n",
    "        msg = (row['Msg'])\n",
    "        itchat.send(msg, toUserName=receiverUserName)\n",
    "        print('Sent!')"
   ]
  }
 ],
 "metadata": {
  "kernelspec": {
   "display_name": "Python 3",
   "language": "python",
   "name": "python3"
  },
  "language_info": {
   "codemirror_mode": {
    "name": "ipython",
    "version": 3
   },
   "file_extension": ".py",
   "mimetype": "text/x-python",
   "name": "python",
   "nbconvert_exporter": "python",
   "pygments_lexer": "ipython3",
   "version": "3.7.0"
  }
 },
 "nbformat": 4,
 "nbformat_minor": 2
}
