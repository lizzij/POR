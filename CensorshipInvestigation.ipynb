{
 "cells": [
  {
   "cell_type": "markdown",
   "metadata": {},
   "source": [
    "# Censorship Investigation\n",
    "Proposed solutions and test for blocked WeChat message and surveys.\n",
    "\n",
    "\n",
    "## Resources\n",
    "* [GreatFire Analyzer](https://en.greatfire.org/analyzer): censorship analyzer for url, keywords etc.\n",
    "\n",
    "## WeChat\n",
    "###### censorship at server\n",
    "* Choose a usable encryption\n",
    "* Encoperate with the wxpy API\n",
    "\n",
    "## Surveys\n",
    "* Option 1: use Chinese survey website [wjc](https://www.wjx.cn/)\n",
    "* Option 2: use Quatrics\n",
    "* Option 3: use vultr or [bluehost](https://www.bluehost.com/?utm_source=%28direct%29&utm_medium=affiliate&utm_campaign=affiliate-link_wordpressbluehost_notype) for web hosting"
   ]
  },
  {
   "cell_type": "code",
   "execution_count": null,
   "metadata": {},
   "outputs": [],
   "source": []
  }
 ],
 "metadata": {
  "kernelspec": {
   "display_name": "Python 3",
   "language": "python",
   "name": "python3"
  },
  "language_info": {
   "codemirror_mode": {
    "name": "ipython",
    "version": 3
   },
   "file_extension": ".py",
   "mimetype": "text/x-python",
   "name": "python",
   "nbconvert_exporter": "python",
   "pygments_lexer": "ipython3",
   "version": "3.7.0"
  }
 },
 "nbformat": 4,
 "nbformat_minor": 2
}
