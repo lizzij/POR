{
 "cells": [
  {
   "cell_type": "markdown",
   "metadata": {},
   "source": [
    "# Censorship Investigation\n",
    "Proposed solutions and test for blocked WeChat message and surveys.\n",
    "\n",
    "\n",
    "## Resources\n",
    "* [GreatFire Analyzer](https://en.greatfire.org/analyzer): censorship analyzer for url, keywords etc.\n",
    "\n",
    "## WeChat\n",
    "\n",
    "### Setup and Manage Multi Accounts\n",
    "* Register with [Google Voice US numbers](http://www.debugrun.com/a/Qok8j6g.html)\n",
    "  * 0 cost, but needs to make phone calls and texts every week to prevent from being canceled\n",
    "  * might not pass WeChat check\n",
    "* Multiple login with Python ThreadPool \n",
    "  * (See code below)\n"
   ]
  },
  {
   "cell_type": "code",
   "execution_count": null,
   "metadata": {},
   "outputs": [],
   "source": [
    "# Python ThreadPool to login multiple accounts at once\n",
    "from multiprocessing.pool import ThreadPool\n",
    "from wxpy import *\n",
    "\n",
    "cache_paths = ['bot1.pkl', 'bot2.pkl']\n",
    "\n",
    "with ThreadPool(2) as pool:\n",
    "    bot1, bot2 = pool.map(lambda x: Bot(x, qr_path='{}.png'.format(x)), cache_paths)"
   ]
  },
  {
   "cell_type": "markdown",
   "metadata": {},
   "source": [
    "### Censorship at server\n",
    "* Choose a usable encryption\n",
    "* Encoperate with the wxpy API\n",
    "\n",
    "## Surveys\n",
    "\n",
    "Option 1: use Quatrics\n",
    "\n",
    "* speed test on [WebSitePulse](https://www.websitepulse.com/tools/china-firewall-test#) using self-created Qualtrics [form](https://neu.co1.qualtrics.com/jfe/form/SV_eqyhSbMmkQUC67r) \n",
    "\n",
    "| Tested From | Shanghai, China | Beijing, China | \n",
    "|--- |---|--- |\n",
    "| Status | OK | OK |               \n",
    "| Response Time | 6.038 sec | 0.803 sec |         \n",
    "\n",
    "\n",
    "* when using a longer [form](https://neu.co1.qualtrics.com/jfe/form/SV_5nL3uej960DjNxr)\n",
    "\n",
    "| Tested From | Shanghai, China | Beijing, China |\n",
    "| ---| --- | --- |\n",
    "| Status | OK | OK |             \n",
    "| Response Time | 5.583 sec | 6.446 sec |\n",
    "\n",
    "Option 1: use Chinese survey website [wjc](https://www.wjx.cn/)\n",
    "\n",
    "Option 3: use vultr or [bluehost](https://www.bluehost.com/?utm_source=%28direct%29&utm_medium=affiliate&utm_campaign=affiliate-link_wordpressbluehost_notype) for web hosting"
   ]
  },
  {
   "cell_type": "code",
   "execution_count": null,
   "metadata": {},
   "outputs": [],
   "source": []
  }
 ],
 "metadata": {
  "kernelspec": {
   "display_name": "Python 3",
   "language": "python",
   "name": "python3"
  },
  "language_info": {
   "codemirror_mode": {
    "name": "ipython",
    "version": 3
   },
   "file_extension": ".py",
   "mimetype": "text/x-python",
   "name": "python",
   "nbconvert_exporter": "python",
   "pygments_lexer": "ipython3",
   "version": "3.7.0"
  }
 },
 "nbformat": 4,
 "nbformat_minor": 2
}
